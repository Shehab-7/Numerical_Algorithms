{
 "cells": [
  {
   "cell_type": "code",
   "execution_count": 75,
   "id": "a793dfb8",
   "metadata": {},
   "outputs": [],
   "source": [
    "import numpy as np\n",
    "from scipy import *\n",
    "from scipy.linalg import lu"
   ]
  },
  {
   "cell_type": "markdown",
   "id": "35e6a58a",
   "metadata": {},
   "source": [
    "### Solve the following system of equations using LU Decomposition method:\n",
    "#### Find L and U by hand.\n",
    "#### Confirm that A=LU then solve.\n",
    "- Ex1. 𝟐𝒙+𝟓𝒚=𝟐𝟏, 𝒙+𝟐𝒚=𝟖.\n",
    "- Ex2. 𝒙𝟏+𝒙𝟐+𝒙𝟑=𝟏, 𝟒𝒙𝟏+𝟑𝒙𝟐−𝒙𝟑=𝟔, 𝟑𝒙𝟏+𝟓𝒙_𝟐+𝟑𝒙𝟑=𝟒\n",
    "\n",
    "#### Use scipy.linalg.lu() to slove the previous system using LU decomposition and compare the results."
   ]
  },
  {
   "cell_type": "markdown",
   "id": "e7e1208d",
   "metadata": {},
   "source": [
    "### Note (when using scipy):\n",
    "- In the second system of equations We can see the <b>L and U</b> we get are different from the ones we got by hand. \n",
    "- You will also see there is a permutation matrix <b>P</b> that returned by the <b>lu function</b>. \n",
    "- This permutation matrix record how do we change the order of the equations for easier calculation purposes (for example, if first element in first row is zero, it can not be the pivot equation, since you can not turn the first elements in other rows to zero. Therefore, we need to switch the order of the equations to get a new pivot equation). \n",
    "- If you multiply <b>P with A</b>, you will see that this permutation matrix effect.\n",
    "- You will need to arrange the ouput based on the new matrix <b>A</b> achieved by <b>LU</b> multiplication in order to correctly solve the system of equations."
   ]
  },
  {
   "cell_type": "code",
   "execution_count": 2,
   "id": "929e7981",
   "metadata": {},
   "outputs": [],
   "source": [
    "A = [[2,5],\n",
    "     [1,2]]\n",
    "\n",
    "L = [[1,0],\n",
    "    [0.5,1]]\n",
    "\n",
    "U = [[2,5],\n",
    "    [0,-0.5]]\n",
    "\n",
    "Y = [21,8]\n"
   ]
  },
  {
   "cell_type": "code",
   "execution_count": 3,
   "id": "8dda3724",
   "metadata": {},
   "outputs": [
    {
     "data": {
      "text/plain": [
       "array([[ 1. ,  0. ],\n",
       "       [-0.5,  1. ]])"
      ]
     },
     "execution_count": 3,
     "metadata": {},
     "output_type": "execute_result"
    }
   ],
   "source": [
    "L_inv = np.linalg.inv(L)\n",
    "L_inv"
   ]
  },
  {
   "cell_type": "code",
   "execution_count": 4,
   "id": "0c3d63cf",
   "metadata": {},
   "outputs": [
    {
     "data": {
      "text/plain": [
       "array([21. , -2.5])"
      ]
     },
     "execution_count": 4,
     "metadata": {},
     "output_type": "execute_result"
    }
   ],
   "source": [
    "M = np.dot(L_inv,Y)\n",
    "M"
   ]
  },
  {
   "cell_type": "code",
   "execution_count": 5,
   "id": "8489e21c",
   "metadata": {},
   "outputs": [
    {
     "data": {
      "text/plain": [
       "array([[ 0.5,  5. ],\n",
       "       [-0. , -2. ]])"
      ]
     },
     "execution_count": 5,
     "metadata": {},
     "output_type": "execute_result"
    }
   ],
   "source": [
    "U_inv = np.linalg.inv(U)\n",
    "U_inv"
   ]
  },
  {
   "cell_type": "code",
   "execution_count": 6,
   "id": "b5a4f897",
   "metadata": {},
   "outputs": [
    {
     "data": {
      "text/plain": [
       "array([-2.,  5.])"
      ]
     },
     "execution_count": 6,
     "metadata": {},
     "output_type": "execute_result"
    }
   ],
   "source": [
    "X = np.dot(U_inv,M)\n",
    "X"
   ]
  },
  {
   "cell_type": "code",
   "execution_count": null,
   "id": "359f45ab",
   "metadata": {},
   "outputs": [],
   "source": [
    "####################################"
   ]
  },
  {
   "cell_type": "code",
   "execution_count": 7,
   "id": "745a9fe7",
   "metadata": {},
   "outputs": [
    {
     "name": "stdout",
     "output_type": "stream",
     "text": [
      "[[1. 0.]\n",
      " [0. 1.]]\n",
      "--------------------------------------------\n",
      "[[1.  0. ]\n",
      " [0.5 1. ]]\n",
      "--------------------------------------------\n",
      "[[ 2.   5. ]\n",
      " [ 0.  -0.5]]\n",
      "--------------------------------------------\n",
      "[[2. 5.]\n",
      " [1. 2.]]\n"
     ]
    }
   ],
   "source": [
    "P,L,U = lu(A)\n",
    "print(P)\n",
    "print(\"--------------------------------------------\")\n",
    "print(L)\n",
    "print(\"--------------------------------------------\")\n",
    "print(U)\n",
    "print(\"--------------------------------------------\")\n",
    "print(np.dot(L,U))"
   ]
  },
  {
   "cell_type": "code",
   "execution_count": 8,
   "id": "4056feed",
   "metadata": {},
   "outputs": [
    {
     "data": {
      "text/plain": [
       "array([[ 1. ,  0. ],\n",
       "       [-0.5,  1. ]])"
      ]
     },
     "execution_count": 8,
     "metadata": {},
     "output_type": "execute_result"
    }
   ],
   "source": [
    "L_inv = np.linalg.inv(L)\n",
    "L_inv"
   ]
  },
  {
   "cell_type": "code",
   "execution_count": 9,
   "id": "eaabf120",
   "metadata": {},
   "outputs": [
    {
     "data": {
      "text/plain": [
       "array([21. , -2.5])"
      ]
     },
     "execution_count": 9,
     "metadata": {},
     "output_type": "execute_result"
    }
   ],
   "source": [
    "M = np.dot(L_inv,Y)\n",
    "M"
   ]
  },
  {
   "cell_type": "code",
   "execution_count": 10,
   "id": "819b5475",
   "metadata": {},
   "outputs": [
    {
     "data": {
      "text/plain": [
       "array([[ 0.5,  5. ],\n",
       "       [-0. , -2. ]])"
      ]
     },
     "execution_count": 10,
     "metadata": {},
     "output_type": "execute_result"
    }
   ],
   "source": [
    "U_inv = np.linalg.inv(U)\n",
    "U_inv"
   ]
  },
  {
   "cell_type": "code",
   "execution_count": 11,
   "id": "de13d904",
   "metadata": {},
   "outputs": [
    {
     "data": {
      "text/plain": [
       "array([-2.,  5.])"
      ]
     },
     "execution_count": 11,
     "metadata": {},
     "output_type": "execute_result"
    }
   ],
   "source": [
    "X = np.dot(U_inv,M)\n",
    "X"
   ]
  },
  {
   "cell_type": "code",
   "execution_count": null,
   "id": "9df59b52",
   "metadata": {},
   "outputs": [],
   "source": [
    "###############################################"
   ]
  },
  {
   "cell_type": "code",
   "execution_count": 12,
   "id": "a16f8a41",
   "metadata": {},
   "outputs": [],
   "source": [
    "A = [[ 1,1,1],\n",
    "    [ 4,3,-1],\n",
    "    [ 3,5,3]]\n",
    "\n",
    "L = [[ 1,0,0],\n",
    "    [ 4,1,0],\n",
    "    [ 3,-2,1]]\n",
    "\n",
    "U = [[ 1,1,1],\n",
    "    [ 0,-1,-5],\n",
    "    [ 0,0,-10]]\n",
    "\n",
    "Y = [1,6,4]\n"
   ]
  },
  {
   "cell_type": "code",
   "execution_count": 13,
   "id": "8b52c01a",
   "metadata": {},
   "outputs": [
    {
     "data": {
      "text/plain": [
       "array([[  1.,   0.,   0.],\n",
       "       [ -4.,   1.,  -0.],\n",
       "       [-11.,   2.,   1.]])"
      ]
     },
     "execution_count": 13,
     "metadata": {},
     "output_type": "execute_result"
    }
   ],
   "source": [
    "L_inv = np.linalg.inv(L)\n",
    "L_inv"
   ]
  },
  {
   "cell_type": "code",
   "execution_count": 14,
   "id": "774c8293",
   "metadata": {},
   "outputs": [
    {
     "data": {
      "text/plain": [
       "array([1., 2., 5.])"
      ]
     },
     "execution_count": 14,
     "metadata": {},
     "output_type": "execute_result"
    }
   ],
   "source": [
    "M = np.dot(L_inv,Y)\n",
    "M"
   ]
  },
  {
   "cell_type": "code",
   "execution_count": 15,
   "id": "d2c610da",
   "metadata": {},
   "outputs": [
    {
     "data": {
      "text/plain": [
       "array([[ 1. ,  1. , -0.4],\n",
       "       [-0. , -1. ,  0.5],\n",
       "       [-0. , -0. , -0.1]])"
      ]
     },
     "execution_count": 15,
     "metadata": {},
     "output_type": "execute_result"
    }
   ],
   "source": [
    "U_inv = np.linalg.inv(U)\n",
    "U_inv"
   ]
  },
  {
   "cell_type": "code",
   "execution_count": 16,
   "id": "95c8321d",
   "metadata": {},
   "outputs": [
    {
     "data": {
      "text/plain": [
       "array([ 1. ,  0.5, -0.5])"
      ]
     },
     "execution_count": 16,
     "metadata": {},
     "output_type": "execute_result"
    }
   ],
   "source": [
    "X = np.dot(U_inv,M)\n",
    "X"
   ]
  },
  {
   "cell_type": "code",
   "execution_count": 17,
   "id": "18626b95",
   "metadata": {},
   "outputs": [],
   "source": [
    "#####################################3"
   ]
  },
  {
   "cell_type": "code",
   "execution_count": 23,
   "id": "1949c087",
   "metadata": {},
   "outputs": [
    {
     "name": "stdout",
     "output_type": "stream",
     "text": [
      "[[0. 0. 1.]\n",
      " [1. 0. 0.]\n",
      " [0. 1. 0.]]\n",
      "--------------------------------------------\n",
      "[[1.         0.         0.        ]\n",
      " [0.75       1.         0.        ]\n",
      " [0.25       0.09090909 1.        ]]\n",
      "--------------------------------------------\n",
      "[[ 4.          3.         -1.        ]\n",
      " [ 0.          2.75        3.75      ]\n",
      " [ 0.          0.          0.90909091]]\n",
      "--------------------------------------------\n",
      "[[ 4.  3. -1.]\n",
      " [ 3.  5.  3.]\n",
      " [ 1.  1.  1.]]\n",
      "[[1, 1, 1], [4, 3, -1], [3, 5, 3]]\n"
     ]
    }
   ],
   "source": [
    "P,L,U = lu(A)\n",
    "print(P)\n",
    "print(\"--------------------------------------------\")\n",
    "print(L)\n",
    "print(\"--------------------------------------------\")\n",
    "print(U)\n",
    "print(\"--------------------------------------------\")\n",
    "print(np.dot(L,U))\n"
   ]
  },
  {
   "cell_type": "code",
   "execution_count": 24,
   "id": "42c776d5",
   "metadata": {},
   "outputs": [
    {
     "data": {
      "text/plain": [
       "array([[0., 1., 0.],\n",
       "       [0., 0., 1.],\n",
       "       [1., 0., 0.]])"
      ]
     },
     "execution_count": 24,
     "metadata": {},
     "output_type": "execute_result"
    }
   ],
   "source": [
    "P_inv = np.linalg.inv(P)\n",
    "P_inv"
   ]
  },
  {
   "cell_type": "code",
   "execution_count": 25,
   "id": "a9640f30",
   "metadata": {},
   "outputs": [
    {
     "data": {
      "text/plain": [
       "array([6., 4., 1.])"
      ]
     },
     "execution_count": 25,
     "metadata": {},
     "output_type": "execute_result"
    }
   ],
   "source": [
    "Y_new = np.dot(P_inv,Y)\n",
    "Y_new"
   ]
  },
  {
   "cell_type": "code",
   "execution_count": 26,
   "id": "e00861fc",
   "metadata": {},
   "outputs": [
    {
     "data": {
      "text/plain": [
       "array([[ 1.        ,  0.        ,  0.        ],\n",
       "       [-0.75      ,  1.        ,  0.        ],\n",
       "       [-0.18181818, -0.09090909,  1.        ]])"
      ]
     },
     "execution_count": 26,
     "metadata": {},
     "output_type": "execute_result"
    }
   ],
   "source": [
    "L_inv = np.linalg.inv(L)\n",
    "L_inv"
   ]
  },
  {
   "cell_type": "code",
   "execution_count": 28,
   "id": "ad5c70c9",
   "metadata": {},
   "outputs": [
    {
     "data": {
      "text/plain": [
       "array([ 6.        , -0.5       , -0.45454545])"
      ]
     },
     "execution_count": 28,
     "metadata": {},
     "output_type": "execute_result"
    }
   ],
   "source": [
    "M = np.dot(L_inv,Y_new)\n",
    "M"
   ]
  },
  {
   "cell_type": "code",
   "execution_count": 29,
   "id": "83801f27",
   "metadata": {},
   "outputs": [
    {
     "data": {
      "text/plain": [
       "array([[ 0.25      , -0.27272727,  1.4       ],\n",
       "       [ 0.        ,  0.36363636, -1.5       ],\n",
       "       [ 0.        ,  0.        ,  1.1       ]])"
      ]
     },
     "execution_count": 29,
     "metadata": {},
     "output_type": "execute_result"
    }
   ],
   "source": [
    "U_inv = np.linalg.inv(U)\n",
    "U_inv"
   ]
  },
  {
   "cell_type": "code",
   "execution_count": 30,
   "id": "b5ed8d99",
   "metadata": {},
   "outputs": [
    {
     "data": {
      "text/plain": [
       "array([ 1. ,  0.5, -0.5])"
      ]
     },
     "execution_count": 30,
     "metadata": {},
     "output_type": "execute_result"
    }
   ],
   "source": [
    "X = np.dot(U_inv,M)\n",
    "X"
   ]
  },
  {
   "cell_type": "code",
   "execution_count": 31,
   "id": "124ad8a0",
   "metadata": {},
   "outputs": [],
   "source": [
    "###################################################3"
   ]
  },
  {
   "cell_type": "markdown",
   "id": "4db8f2ad",
   "metadata": {},
   "source": [
    "### Apply the Jacobi and Gauss-Seidel method to solve\n",
    "- 𝟓𝒙𝟏−𝟐𝒙𝟐+𝟑𝒙𝟑=−𝟏, −𝟑𝒙𝟏+𝟗𝒙𝟐+𝒙𝟑=𝟐, 𝟐𝒙𝟏−𝒙𝟐−𝟕𝒙𝟑=𝟑\n",
    "- Solve once without vectorization then use vectorize implementation.\n",
    "- Check for convergance.\n",
    "- Use different tolerence and see the difference between the two methods. e.g. tol: 0.01,0.001,0.0001 ... etc."
   ]
  },
  {
   "cell_type": "code",
   "execution_count": 72,
   "id": "3a664e8b",
   "metadata": {},
   "outputs": [],
   "source": [
    "A = np.array([[5, -2, 3],\n",
    "             [-3, 9, 1],\n",
    "             [2, -1, -7]])\n",
    "\n",
    "B = [-1,2,3]"
   ]
  },
  {
   "cell_type": "code",
   "execution_count": 58,
   "id": "d1f6e081",
   "metadata": {},
   "outputs": [
    {
     "name": "stdout",
     "output_type": "stream",
     "text": [
      "[5 9 7]\n"
     ]
    }
   ],
   "source": [
    "A = np.array([[5, -2, 3],\n",
    "             [-3, 9, 1],\n",
    "             [2, -1, -7]])\n",
    "    \n",
    "print(abs(np.diag(A)))\n",
    "#print(np.fliplr(A).diagonal())"
   ]
  },
  {
   "cell_type": "code",
   "execution_count": 59,
   "id": "91c26fe0",
   "metadata": {},
   "outputs": [],
   "source": [
    "## Jacobi Not Vectorized"
   ]
  },
  {
   "cell_type": "code",
   "execution_count": 115,
   "id": "09881065",
   "metadata": {},
   "outputs": [
    {
     "name": "stdout",
     "output_type": "stream",
     "text": [
      "1\t-0.2000\t0.2222\t-0.4286\n",
      "\n",
      "2\t0.1460\t0.2032\t-0.5175\n",
      "\n",
      "3\t0.1917\t0.3284\t-0.4159\n",
      "\n",
      "4\t0.1809\t0.3323\t-0.4207\n",
      "\n",
      "5\t0.1854\t0.3293\t-0.4244\n",
      "\n",
      "6\t0.1863\t0.3312\t-0.4226\n",
      "\n",
      "7\t0.1861\t0.3313\t-0.4226\n",
      "\n",
      "8\t0.1861\t0.3312\t-0.4227\n",
      "\n",
      "9\t0.1861\t0.3312\t-0.4227\n",
      "\n",
      "10\t0.1861\t0.3312\t-0.4227\n",
      "\n"
     ]
    }
   ],
   "source": [
    "f1 = lambda x1,x2,x3: (2*x2 - 3*x3 -1)/5\n",
    "f2 = lambda x1,x2,x3: (3*x1 - x3 +2)/9\n",
    "f3 = lambda x1,x2,x3: (-2*x1 + x2 + 3)/-7\n",
    "\n",
    "x1_0 = 0\n",
    "x2_0 = 0\n",
    "x3_0 = 0\n",
    "count = 1\n",
    "epsilon = 0.00001\n",
    "condition = True\n",
    "\n",
    "while condition:\n",
    "    x1 = f1(x1_0,x2_0,x3_0)\n",
    "    x2 = f2(x1_0,x2_0,x3_0)\n",
    "    x3 = f3(x1_0,x2_0,x3_0)\n",
    "    print('%d\\t%0.4f\\t%0.4f\\t%0.4f\\n' %(count, x1,x2,x3))\n",
    "    e1 = abs(x1_0-x1);\n",
    "    e2 = abs(x2_0-x2);\n",
    "    e3 = abs(x3_0-x3);\n",
    "    e_total = np.linalg.norm([e1,e2,e3])\n",
    "    count += 1\n",
    "    x1_0 = x1\n",
    "    x2_0 = x2\n",
    "    x3_0 = x3\n",
    "    \n",
    "    condition = e_total>epsilon \n",
    "\n"
   ]
  },
  {
   "cell_type": "code",
   "execution_count": 61,
   "id": "6e4936d1",
   "metadata": {},
   "outputs": [],
   "source": [
    "## Gauss-Seidel Not Vectorized"
   ]
  },
  {
   "cell_type": "code",
   "execution_count": 116,
   "id": "2cd06abf",
   "metadata": {},
   "outputs": [
    {
     "name": "stdout",
     "output_type": "stream",
     "text": [
      "1\t-0.2000\t0.1556\t-0.5079\n",
      "\n",
      "2\t0.1670\t0.3343\t-0.4286\n",
      "\n",
      "3\t0.1909\t0.3335\t-0.4217\n",
      "\n",
      "4\t0.1864\t0.3312\t-0.4226\n",
      "\n",
      "5\t0.1861\t0.3312\t-0.4227\n",
      "\n",
      "6\t0.1861\t0.3312\t-0.4227\n",
      "\n",
      "7\t0.1861\t0.3312\t-0.4227\n",
      "\n"
     ]
    }
   ],
   "source": [
    "f1 = lambda x1,x2,x3: (2*x2 - 3*x3 -1)/5\n",
    "f2 = lambda x1,x2,x3: (3*x1 - x3 +2)/9\n",
    "f3 = lambda x1,x2,x3: (-2*x1 + x2 + 3)/-7\n",
    "\n",
    "x1_0 = 0\n",
    "x2_0 = 0\n",
    "x3_0 = 0\n",
    "count = 1\n",
    "epsilon = 0.00001\n",
    "condition = True\n",
    "\n",
    "while condition:\n",
    "    x1 = f1(x1_0,x2_0,x3_0)\n",
    "    x2 = f2(x1,x2_0,x3_0)\n",
    "    x3 = f3(x1,x2,x3_0)\n",
    "    print('%d\\t%0.4f\\t%0.4f\\t%0.4f\\n' %(count, x1,x2,x3))\n",
    "    e1 = abs(x1_0-x1);\n",
    "    e2 = abs(x2_0-x2);\n",
    "    e3 = abs(x3_0-x3);\n",
    "    e_total = np.linalg.norm([e1,e2,e3])\n",
    "    count += 1\n",
    "    x1_0 = x1\n",
    "    x2_0 = x2\n",
    "    x3_0 = x3\n",
    "    \n",
    "    condition = e_total>epsilon \n"
   ]
  },
  {
   "cell_type": "code",
   "execution_count": 111,
   "id": "7759fa89",
   "metadata": {},
   "outputs": [
    {
     "name": "stdout",
     "output_type": "stream",
     "text": [
      "[[ 5  0  0]\n",
      " [ 0  9  0]\n",
      " [ 0  0 -7]]\n",
      "--------------------\n",
      "[[ 0  0  0]\n",
      " [ 3  0  0]\n",
      " [-2  1  0]]\n",
      "--------------------\n",
      "[[ 0  2 -3]\n",
      " [ 0  0 -1]\n",
      " [ 0  0  0]]\n",
      "--------------------\n",
      "[0, 0, 0]\n",
      "--------------------\n",
      "[[-0.2        -0.2        -0.2       ]\n",
      " [ 0.22222222  0.22222222  0.22222222]\n",
      " [-0.42857143 -0.42857143 -0.42857143]]\n",
      "[[ 0.14603175  0.14603175  0.14603175]\n",
      " [ 0.2031746   0.2031746   0.2031746 ]\n",
      " [-0.51746032 -0.51746032 -0.51746032]]\n",
      "[[ 0.19174603  0.19174603  0.19174603]\n",
      " [ 0.32839506  0.32839506  0.32839506]\n",
      " [-0.41587302 -0.41587302 -0.41587302]]\n",
      "[[ 0.18088183  0.18088183  0.18088183]\n",
      " [ 0.33234568  0.33234568  0.33234568]\n",
      " [-0.42070043 -0.42070043 -0.42070043]]\n",
      "[[ 0.18535853  0.18535853  0.18535853]\n",
      " [ 0.32926066  0.32926066  0.32926066]\n",
      " [-0.42436886 -0.42436886 -0.42436886]]\n",
      "[[ 0.18632558  0.18632558  0.18632558]\n",
      " [ 0.33116049  0.33116049  0.33116049]\n",
      " [-0.42264909 -0.42264909 -0.42264909]]\n",
      "[[ 0.18605365  0.18605365  0.18605365]\n",
      " [ 0.33129176  0.33129176  0.33129176]\n",
      " [-0.42264419 -0.42264419 -0.42264419]]\n",
      "[[ 0.18610322  0.18610322  0.18610322]\n",
      " [ 0.33120057  0.33120057  0.33120057]\n",
      " [-0.42274064 -0.42274064 -0.42274064]]\n",
      "[[ 0.18612461  0.18612461  0.18612461]\n",
      " [ 0.33122781  0.33122781  0.33122781]\n",
      " [-0.42271345 -0.42271345 -0.42271345]]\n",
      "[[ 0.18611919  0.18611919  0.18611919]\n",
      " [ 0.33123192  0.33123192  0.33123192]\n",
      " [-0.42271123 -0.42271123 -0.42271123]]\n"
     ]
    }
   ],
   "source": [
    "## Jacobi Vectorized\n",
    "D = np.diag(np.diag(A))\n",
    "U = np.triu(A,k=1)*-1\n",
    "L = np.tril(A,k=-1)*-1\n",
    "x = [0,0,0]\n",
    "print(D)\n",
    "print(\"--------------------\")\n",
    "print(L)\n",
    "print(\"--------------------\")\n",
    "print(U)\n",
    "print(\"--------------------\")\n",
    "print(x)\n",
    "print(\"--------------------\")\n",
    "\n",
    "T = np.dot(sp.linalg.inv(D),(L+U))\n",
    "C = np.dot(sp.linalg.inv(D),B)\n",
    "condition = True\n",
    "while condition:\n",
    "    x_0 = x\n",
    "    x = np.dot(T,x) + C\n",
    "    if np.abs(x-x_0).max() < epsilon:\n",
    "        condition = False\n",
    "    print(x)"
   ]
  },
  {
   "cell_type": "code",
   "execution_count": 113,
   "id": "814131bf",
   "metadata": {},
   "outputs": [
    {
     "name": "stdout",
     "output_type": "stream",
     "text": [
      "[[ 5  0  0]\n",
      " [ 0  9  0]\n",
      " [ 0  0 -7]]\n",
      "--------------------\n",
      "[[ 0  0  0]\n",
      " [ 3  0  0]\n",
      " [-2  1  0]]\n",
      "--------------------\n",
      "[[ 0  2 -3]\n",
      " [ 0  0 -1]\n",
      " [ 0  0  0]]\n",
      "--------------------\n",
      "[[0]\n",
      " [0]\n",
      " [0]]\n",
      "--------------------\n",
      "[-0.2] [0.15555556] [-0.50793651]\n",
      "[0.16698413] [0.33432099] [-0.42862182]\n",
      "[0.19090149] [0.3334807] [-0.42166825]\n",
      "[0.18639323] [0.33120533] [-0.42263127]\n",
      "[0.18606089] [0.33120155] [-0.42272568]\n",
      "[0.18611603] [0.33123042] [-0.42271405]\n",
      "[0.1861206] [0.33123065] [-0.42271278]\n"
     ]
    }
   ],
   "source": [
    "## Gauss-Seidel Vectorized\n",
    "A = np.array([[5, -2, 3],\n",
    "             [-3, 9, 1],\n",
    "             [2, -1, -7]])\n",
    "\n",
    "B = np.array([[-1]\n",
    "              ,[2]\n",
    "              ,[3]])\n",
    "D = np.diag(np.diag(A))\n",
    "U = (np.triu(A)-D)*-1\n",
    "L = (np.tril(A)-D)*-1\n",
    "x = np.array([[0]\n",
    "              ,[0]\n",
    "              ,[0]])\n",
    "print(D)\n",
    "print(\"--------------------\")\n",
    "print(L)\n",
    "print(\"--------------------\")\n",
    "print(U)\n",
    "print(\"--------------------\")\n",
    "print(x)\n",
    "print(\"--------------------\")\n",
    "\n",
    "T = np.dot(np.linalg.inv((D-L)),U)\n",
    "C = np.dot(np.linalg.inv((D-L)),B)\n",
    "condition = True\n",
    "while condition:\n",
    "    x_0 = x\n",
    "    x = np.dot(T,x) + C\n",
    "    if np.abs(x-x_0).max() < epsilon:\n",
    "        condition = False\n",
    "    print(x[0],x[1],x[2]) "
   ]
  },
  {
   "cell_type": "markdown",
   "id": "358e7fe3",
   "metadata": {},
   "source": [
    "### Use np.linalg.solve() to solve the previous system and compare the results."
   ]
  },
  {
   "cell_type": "code",
   "execution_count": 97,
   "id": "52a53f5e",
   "metadata": {
    "scrolled": true
   },
   "outputs": [
    {
     "data": {
      "text/plain": [
       "array([ 0.18611987,  0.33123028, -0.42271293])"
      ]
     },
     "execution_count": 97,
     "metadata": {},
     "output_type": "execute_result"
    }
   ],
   "source": [
    "np.linalg.solve(A,B)"
   ]
  },
  {
   "cell_type": "markdown",
   "id": "9b8e273e",
   "metadata": {},
   "source": [
    "### Use scipy.linalg.lu() to slove the previous system using LU decomposition and compare the results."
   ]
  },
  {
   "cell_type": "code",
   "execution_count": 99,
   "id": "2c4d5913",
   "metadata": {},
   "outputs": [
    {
     "name": "stdout",
     "output_type": "stream",
     "text": [
      "[[1. 0. 0.]\n",
      " [0. 1. 0.]\n",
      " [0. 0. 1.]]\n",
      "--------------------------------------------\n",
      "[[ 1.          0.          0.        ]\n",
      " [-0.6         1.          0.        ]\n",
      " [ 0.4        -0.02564103  1.        ]]\n",
      "--------------------------------------------\n",
      "[[ 5.         -2.          3.        ]\n",
      " [ 0.          7.8         2.8       ]\n",
      " [ 0.          0.         -8.12820513]]\n",
      "--------------------------------------------\n",
      "[[ 5. -2.  3.]\n",
      " [-3.  9.  1.]\n",
      " [ 2. -1. -7.]]\n"
     ]
    }
   ],
   "source": [
    "P,L,U = sp.linalg.lu(A)\n",
    "print(P)\n",
    "print(\"--------------------------------------------\")\n",
    "print(L)\n",
    "print(\"--------------------------------------------\")\n",
    "print(U)\n",
    "print(\"--------------------------------------------\")\n",
    "print(np.dot(L,U))\n"
   ]
  },
  {
   "cell_type": "code",
   "execution_count": 100,
   "id": "1c684529",
   "metadata": {},
   "outputs": [
    {
     "data": {
      "text/plain": [
       "array([[1., 0., 0.],\n",
       "       [0., 1., 0.],\n",
       "       [0., 0., 1.]])"
      ]
     },
     "execution_count": 100,
     "metadata": {},
     "output_type": "execute_result"
    }
   ],
   "source": [
    "P_inv = np.linalg.inv(P)\n",
    "P_inv"
   ]
  },
  {
   "cell_type": "code",
   "execution_count": 102,
   "id": "45cfc431",
   "metadata": {},
   "outputs": [
    {
     "data": {
      "text/plain": [
       "array([[ 1.        ,  0.        ,  0.        ],\n",
       "       [ 0.6       ,  1.        ,  0.        ],\n",
       "       [-0.38461538,  0.02564103,  1.        ]])"
      ]
     },
     "execution_count": 102,
     "metadata": {},
     "output_type": "execute_result"
    }
   ],
   "source": [
    "L_inv = np.linalg.inv(L)\n",
    "L_inv"
   ]
  },
  {
   "cell_type": "code",
   "execution_count": 103,
   "id": "59ed8c82",
   "metadata": {},
   "outputs": [
    {
     "data": {
      "text/plain": [
       "array([-1.        ,  1.4       ,  3.43589744])"
      ]
     },
     "execution_count": 103,
     "metadata": {},
     "output_type": "execute_result"
    }
   ],
   "source": [
    "M = np.dot(L_inv,B)\n",
    "M"
   ]
  },
  {
   "cell_type": "code",
   "execution_count": 104,
   "id": "b323b6f7",
   "metadata": {},
   "outputs": [
    {
     "data": {
      "text/plain": [
       "array([[ 0.2       ,  0.05128205,  0.09148265],\n",
       "       [ 0.        ,  0.12820513,  0.04416404],\n",
       "       [-0.        , -0.        , -0.12302839]])"
      ]
     },
     "execution_count": 104,
     "metadata": {},
     "output_type": "execute_result"
    }
   ],
   "source": [
    "U_inv = np.linalg.inv(U)\n",
    "U_inv"
   ]
  },
  {
   "cell_type": "code",
   "execution_count": 105,
   "id": "51fd607f",
   "metadata": {},
   "outputs": [
    {
     "data": {
      "text/plain": [
       "array([ 0.18611987,  0.33123028, -0.42271293])"
      ]
     },
     "execution_count": 105,
     "metadata": {},
     "output_type": "execute_result"
    }
   ],
   "source": [
    "X = np.dot(U_inv,M)\n",
    "X"
   ]
  },
  {
   "cell_type": "code",
   "execution_count": null,
   "id": "0508256c",
   "metadata": {},
   "outputs": [],
   "source": []
  }
 ],
 "metadata": {
  "kernelspec": {
   "display_name": "Python 3 (ipykernel)",
   "language": "python",
   "name": "python3"
  },
  "language_info": {
   "codemirror_mode": {
    "name": "ipython",
    "version": 3
   },
   "file_extension": ".py",
   "mimetype": "text/x-python",
   "name": "python",
   "nbconvert_exporter": "python",
   "pygments_lexer": "ipython3",
   "version": "3.9.7"
  }
 },
 "nbformat": 4,
 "nbformat_minor": 5
}
